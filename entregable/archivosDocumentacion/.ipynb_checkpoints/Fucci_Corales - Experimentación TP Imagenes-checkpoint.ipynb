{
 "cells": [
  {
   "cell_type": "markdown",
   "metadata": {},
   "source": [
    "# Experimentación en Python - Análisis de tiempos de ejecución"
   ]
  },
  {
   "cell_type": "markdown",
   "metadata": {},
   "source": [
    "En esta notebook intentaremos centrarnos en responder una duda:\n",
    "##### El uso de threads produce una mejora en el tiempo total de ejecución?"
   ]
  },
  {
   "cell_type": "markdown",
   "metadata": {},
   "source": [
    "Para responder la pregunta tuvimos que tomar muestras de los tiempos propiamente dichos. Para llevar a cabo el muestreo\n",
    "se ejecutó reiteradamente el programa, con el fin de obtener graficos y conclusiónes lo más representativas posibles."
   ]
  },
  {
   "cell_type": "markdown",
   "metadata": {},
   "source": [
    "Experimento 1: ¿Más threads, mejor performance?\n",
    "¿𝐂𝐮á𝐥 𝐞𝐬 𝐦𝐢 𝐡𝐢𝐩ó𝐭𝐞𝐬𝐢𝐬? ¿𝐐𝐮é 𝐞𝐬𝐩𝐞𝐫𝐨 𝐨𝐛𝐬𝐞𝐫𝐯𝐚𝐫?\n",
    "¿La ganancia de performance es proporcional a la cantidad de threads?\n",
    "Experimento 3: ¿Cómo influye el tamaño de una imagen en la performance?\n",
    "Experimento 4: ¿Varía de filtro en filtro?\n",
    "¿Será cierto que si considero imagenes más chicas aún conviene hacer multi-threading?"
   ]
  },
  {
   "cell_type": "code",
   "execution_count": null,
   "metadata": {},
   "outputs": [],
   "source": []
  }
 ],
 "metadata": {
  "kernelspec": {
   "display_name": "Python 3",
   "language": "python",
   "name": "python3"
  },
  "language_info": {
   "codemirror_mode": {
    "name": "ipython",
    "version": 3
   },
   "file_extension": ".py",
   "mimetype": "text/x-python",
   "name": "python",
   "nbconvert_exporter": "python",
   "pygments_lexer": "ipython3",
   "version": "3.8.3"
  }
 },
 "nbformat": 4,
 "nbformat_minor": 4
}

{
 "cells": [
  {
   "cell_type": "markdown",
   "metadata": {},
   "source": [
    "# Experimentación en Python - Análisis de tiempos de ejecución"
   ]
  },
  {
   "cell_type": "markdown",
   "metadata": {},
   "source": [
    "Utilizaremos esta notebook para realizar un análisis acerca de los tiempos de ejecución en los cuales tendremos en cuenta varios factores que pueden presentarse, los cuales son: **diferentes tamaños de imágenes, cantidad de threads y tipos de filtro**.\n",
    "\n",
    "Para llevar a cabo el análisis de forma precisa debimos tomar muestras de los tiempos propiamente dichos. Con este objetivo, se realizó el muestreo de los datos ejecutando reiteradamente el programa, intentando obtener graficos y conclusiones lo más representativas posibles. Decidimos correr el programa probando el desempeño desde 1 a 25 threads, y 10 pasadas en cada uno para luego calcular el promedio y obtener información correcta y exacta.\n",
    "\n",
    "Una aclaración importante y a tener en cuenta es que los tests se ejecutaron en una computadora que cuenta con un procesador **Ryzen 5 3600X (6 cores - 12 threads)** y **16GB de memoria RAM**."
   ]
  },
  {
   "cell_type": "code",
   "execution_count": 1,
   "metadata": {},
   "outputs": [],
   "source": [
    "# Importamos las librerías básicas y necesarias\n",
    "\n",
    "import os                          # procesos\n",
    "\n",
    "import numpy as np                 # arreglos numpy - cálculos numéricos\n",
    "import matplotlib.pyplot as plt    # gráficos\n",
    "import pandas as pd                # datasets - análisis de datos"
   ]
  },
  {
   "cell_type": "code",
   "execution_count": 2,
   "metadata": {},
   "outputs": [],
   "source": [
    "# Definimos como se verá el gráfico utilizado para exponer los datos recopilados\n",
    "\n",
    "def plot(ths, time, std, title, xlabel, ylabel):\n",
    "\n",
    "    fig, ax = plt.subplots()\n",
    "    ax.plot(ths, time,'b-', color='blue')\n",
    "    if np.any(std) != 0:\n",
    "        ax.fill_between(ths, time-std, time+std, color='turquoise')\n",
    "\n",
    "\n",
    "    ax.set(xlabel=xlabel, ylabel=ylabel,\n",
    "           title=title)\n",
    "    ax.grid()\n",
    "\n",
    "    fig.savefig(\"test.png\")\n",
    "    plt.show()"
   ]
  },
  {
   "cell_type": "markdown",
   "metadata": {},
   "source": [
    "## Cantidad de threads"
   ]
  },
  {
   "cell_type": "markdown",
   "metadata": {},
   "source": [
    "En un principio podríamos pensar que respecto a la cantidad de threads utilizados para realizar el filtrado de la imagen, cuánto más grande es la cantidad, mejor performance se va a obtener y menos tardará el aplicado, ya que la tarea sería paralelizada y dividida en varias partes iguales. Pero también deberíamos tener en cuenta cuánto tarda en crearse cada thread y el tiempo que la ejecución implica en cada uno, por lo que todavía no podemos estar seguros sobre esto.\n",
    "\n",
    "En este caso utiliazremos el filtro **brigthness** en una imagen de **1120 x 580 pixeles**."
   ]
  },
  {
   "cell_type": "code",
   "execution_count": 3,
   "metadata": {},
   "outputs": [],
   "source": [
    "# Código utilizado para correr los tests \n",
    "\n",
    "for n_threads in range(1,26):\n",
    "    for i in range(1,11): \n",
    "        cmd = \"./main brightness \" + str(n_threads) + \" 0,5 0 imgs/imagen_grande.ppm imgs/imagen_grande.ppm\"\n",
    "        os.system(cmd)"
   ]
  },
  {
   "cell_type": "code",
   "execution_count": 4,
   "metadata": {},
   "outputs": [
    {
     "data": {
      "text/html": [
       "<div>\n",
       "<style scoped>\n",
       "    .dataframe tbody tr th:only-of-type {\n",
       "        vertical-align: middle;\n",
       "    }\n",
       "\n",
       "    .dataframe tbody tr th {\n",
       "        vertical-align: top;\n",
       "    }\n",
       "\n",
       "    .dataframe thead th {\n",
       "        text-align: right;\n",
       "    }\n",
       "</style>\n",
       "<table border=\"1\" class=\"dataframe\">\n",
       "  <thead>\n",
       "    <tr style=\"text-align: right;\">\n",
       "      <th></th>\n",
       "      <th>Tiempo</th>\n",
       "      <th>Threads</th>\n",
       "      <th>Filtro</th>\n",
       "      <th>Tamaño (pixeles)</th>\n",
       "    </tr>\n",
       "  </thead>\n",
       "  <tbody>\n",
       "    <tr>\n",
       "      <th>0</th>\n",
       "      <td>0.167049</td>\n",
       "      <td>1</td>\n",
       "      <td>brightness</td>\n",
       "      <td>649600</td>\n",
       "    </tr>\n",
       "    <tr>\n",
       "      <th>1</th>\n",
       "      <td>0.176340</td>\n",
       "      <td>1</td>\n",
       "      <td>brightness</td>\n",
       "      <td>649600</td>\n",
       "    </tr>\n",
       "    <tr>\n",
       "      <th>2</th>\n",
       "      <td>0.170717</td>\n",
       "      <td>1</td>\n",
       "      <td>brightness</td>\n",
       "      <td>649600</td>\n",
       "    </tr>\n",
       "    <tr>\n",
       "      <th>3</th>\n",
       "      <td>0.177725</td>\n",
       "      <td>1</td>\n",
       "      <td>brightness</td>\n",
       "      <td>649600</td>\n",
       "    </tr>\n",
       "    <tr>\n",
       "      <th>4</th>\n",
       "      <td>0.176549</td>\n",
       "      <td>1</td>\n",
       "      <td>brightness</td>\n",
       "      <td>649600</td>\n",
       "    </tr>\n",
       "    <tr>\n",
       "      <th>...</th>\n",
       "      <td>...</td>\n",
       "      <td>...</td>\n",
       "      <td>...</td>\n",
       "      <td>...</td>\n",
       "    </tr>\n",
       "    <tr>\n",
       "      <th>245</th>\n",
       "      <td>0.029532</td>\n",
       "      <td>25</td>\n",
       "      <td>brightness</td>\n",
       "      <td>649600</td>\n",
       "    </tr>\n",
       "    <tr>\n",
       "      <th>246</th>\n",
       "      <td>0.032304</td>\n",
       "      <td>25</td>\n",
       "      <td>brightness</td>\n",
       "      <td>649600</td>\n",
       "    </tr>\n",
       "    <tr>\n",
       "      <th>247</th>\n",
       "      <td>0.031487</td>\n",
       "      <td>25</td>\n",
       "      <td>brightness</td>\n",
       "      <td>649600</td>\n",
       "    </tr>\n",
       "    <tr>\n",
       "      <th>248</th>\n",
       "      <td>0.032124</td>\n",
       "      <td>25</td>\n",
       "      <td>brightness</td>\n",
       "      <td>649600</td>\n",
       "    </tr>\n",
       "    <tr>\n",
       "      <th>249</th>\n",
       "      <td>0.034336</td>\n",
       "      <td>25</td>\n",
       "      <td>brightness</td>\n",
       "      <td>649600</td>\n",
       "    </tr>\n",
       "  </tbody>\n",
       "</table>\n",
       "<p>250 rows × 4 columns</p>\n",
       "</div>"
      ],
      "text/plain": [
       "       Tiempo  Threads      Filtro  Tamaño (pixeles)\n",
       "0    0.167049        1  brightness            649600\n",
       "1    0.176340        1  brightness            649600\n",
       "2    0.170717        1  brightness            649600\n",
       "3    0.177725        1  brightness            649600\n",
       "4    0.176549        1  brightness            649600\n",
       "..        ...      ...         ...               ...\n",
       "245  0.029532       25  brightness            649600\n",
       "246  0.032304       25  brightness            649600\n",
       "247  0.031487       25  brightness            649600\n",
       "248  0.032124       25  brightness            649600\n",
       "249  0.034336       25  brightness            649600\n",
       "\n",
       "[250 rows x 4 columns]"
      ]
     },
     "execution_count": 4,
     "metadata": {},
     "output_type": "execute_result"
    }
   ],
   "source": [
    "# Traigo los datos obtenidos y los organizo en una tabla\n",
    "\n",
    "dataframe = pd.read_csv('test_brightness.csv', names=['Tiempo','Threads', 'Filtro', 'Tamaño (pixeles)'])\n",
    "dataframe"
   ]
  },
  {
   "cell_type": "code",
   "execution_count": 5,
   "metadata": {},
   "outputs": [
    {
     "data": {
      "image/png": "[encoded data removed]",
      "text/plain": [
       "<Figure size 432x288 with 1 Axes>"
      ]
     },
     "metadata": {
      "needs_background": "light"
     },
     "output_type": "display_data"
    }
   ],
   "source": [
    "ths = np.arange(1,26)\n",
    "df_mean_time = dataframe.groupby('Threads')['Tiempo'].mean()\n",
    "df_std_time = dataframe.groupby('Threads')['Tiempo'].std()\n",
    "xlabel='#Threads'\n",
    "ylabel='Tiempo (s)'\n",
    "title='Performance brightness multi-thread - Imagen 1120x580'\n",
    "\n",
    "plot(ths,df_mean_time, df_std_time, title, xlabel, ylabel)"
   ]
  },
  {
   "cell_type": "markdown",
   "metadata": {},
   "source": [
    "Efectivamente podemos observar que en un principio, a medida que aumenta el número de threads, la performance mejora considerablemente y el tiempo que se tarda en aplicar el filtro a la imagen es menor. Pero a partir de los 12 threads parece estancarse, y el tiempo que conlleva la ejecución comienza a ser el mismo de forma casi constante, por lo que podríamos intuir que el procesador del equipo utilizado tuvo que ver con el resultado, ya que llegó a su máximo de threads reales en uso."
   ]
  },
  {
   "cell_type": "markdown",
   "metadata": {},
   "source": [
    "## Tamaño de imágenes"
   ]
  },
  {
   "cell_type": "markdown",
   "metadata": {},
   "source": [
    "En este caso utilizaremos el mismo tipo de test que en el anterior, pero esta vez utilizando 3 imágenes de diferentes tamaños (pequeña, mediana y grande). Y a partir de esto nuestra hipótesis es que cuanto mayor cantidad de píxeles tenga la imagen, más se va a tardar en aplicar el filtro seleccionado.\n",
    "\n",
    "Seleccionamos el filtro **shades** para realizar este experimento."
   ]
  },
  {
   "cell_type": "markdown",
   "metadata": {},
   "source": [
    "### Imagen pequeña (159 x 160 pixeles)"
   ]
  },
  {
   "cell_type": "code",
   "execution_count": 6,
   "metadata": {},
   "outputs": [],
   "source": [
    "# Código utilizado para correr los tests \n",
    "\n",
    "for n_threads in range(1,26):\n",
    "    for i in range(1,11): \n",
    "        cmd = \"./main shades \" + str(n_threads) + \" 10 0 imgs/imagen_chica.ppm imgs/imagen_chica.ppm\"\n",
    "        os.system(cmd)"
   ]
  },
  {
   "cell_type": "code",
   "execution_count": 7,
   "metadata": {},
   "outputs": [
    {
     "data": {
      "text/html": [
       "<div>\n",
       "<style scoped>\n",
       "    .dataframe tbody tr th:only-of-type {\n",
       "        vertical-align: middle;\n",
       "    }\n",
       "\n",
       "    .dataframe tbody tr th {\n",
       "        vertical-align: top;\n",
       "    }\n",
       "\n",
       "    .dataframe thead th {\n",
       "        text-align: right;\n",
       "    }\n",
       "</style>\n",
       "<table border=\"1\" class=\"dataframe\">\n",
       "  <thead>\n",
       "    <tr style=\"text-align: right;\">\n",
       "      <th></th>\n",
       "      <th>Tiempo</th>\n",
       "      <th>Threads</th>\n",
       "      <th>Filtro</th>\n",
       "      <th>Tamaño (pixeles)</th>\n",
       "    </tr>\n",
       "  </thead>\n",
       "  <tbody>\n",
       "    <tr>\n",
       "      <th>0</th>\n",
       "      <td>0.007798</td>\n",
       "      <td>1</td>\n",
       "      <td>shades</td>\n",
       "      <td>25440</td>\n",
       "    </tr>\n",
       "    <tr>\n",
       "      <th>1</th>\n",
       "      <td>0.007974</td>\n",
       "      <td>1</td>\n",
       "      <td>shades</td>\n",
       "      <td>25440</td>\n",
       "    </tr>\n",
       "    <tr>\n",
       "      <th>2</th>\n",
       "      <td>0.007939</td>\n",
       "      <td>1</td>\n",
       "      <td>shades</td>\n",
       "      <td>25440</td>\n",
       "    </tr>\n",
       "    <tr>\n",
       "      <th>3</th>\n",
       "      <td>0.008846</td>\n",
       "      <td>1</td>\n",
       "      <td>shades</td>\n",
       "      <td>25440</td>\n",
       "    </tr>\n",
       "    <tr>\n",
       "      <th>4</th>\n",
       "      <td>0.006931</td>\n",
       "      <td>1</td>\n",
       "      <td>shades</td>\n",
       "      <td>25440</td>\n",
       "    </tr>\n",
       "    <tr>\n",
       "      <th>...</th>\n",
       "      <td>...</td>\n",
       "      <td>...</td>\n",
       "      <td>...</td>\n",
       "      <td>...</td>\n",
       "    </tr>\n",
       "    <tr>\n",
       "      <th>245</th>\n",
       "      <td>0.002548</td>\n",
       "      <td>25</td>\n",
       "      <td>shades</td>\n",
       "      <td>25440</td>\n",
       "    </tr>\n",
       "    <tr>\n",
       "      <th>246</th>\n",
       "      <td>0.002268</td>\n",
       "      <td>25</td>\n",
       "      <td>shades</td>\n",
       "      <td>25440</td>\n",
       "    </tr>\n",
       "    <tr>\n",
       "      <th>247</th>\n",
       "      <td>0.002663</td>\n",
       "      <td>25</td>\n",
       "      <td>shades</td>\n",
       "      <td>25440</td>\n",
       "    </tr>\n",
       "    <tr>\n",
       "      <th>248</th>\n",
       "      <td>0.002461</td>\n",
       "      <td>25</td>\n",
       "      <td>shades</td>\n",
       "      <td>25440</td>\n",
       "    </tr>\n",
       "    <tr>\n",
       "      <th>249</th>\n",
       "      <td>0.002368</td>\n",
       "      <td>25</td>\n",
       "      <td>shades</td>\n",
       "      <td>25440</td>\n",
       "    </tr>\n",
       "  </tbody>\n",
       "</table>\n",
       "<p>250 rows × 4 columns</p>\n",
       "</div>"
      ],
      "text/plain": [
       "       Tiempo  Threads  Filtro  Tamaño (pixeles)\n",
       "0    0.007798        1  shades             25440\n",
       "1    0.007974        1  shades             25440\n",
       "2    0.007939        1  shades             25440\n",
       "3    0.008846        1  shades             25440\n",
       "4    0.006931        1  shades             25440\n",
       "..        ...      ...     ...               ...\n",
       "245  0.002548       25  shades             25440\n",
       "246  0.002268       25  shades             25440\n",
       "247  0.002663       25  shades             25440\n",
       "248  0.002461       25  shades             25440\n",
       "249  0.002368       25  shades             25440\n",
       "\n",
       "[250 rows x 4 columns]"
      ]
     },
     "execution_count": 7,
     "metadata": {},
     "output_type": "execute_result"
    }
   ],
   "source": [
    "# Traigo los datos obtenidos y los organizo en una tabla\n",
    "\n",
    "dataframe = pd.read_csv('test_imgChica.csv', names=['Tiempo','Threads', 'Filtro', 'Tamaño (pixeles)'])\n",
    "dataframe"
   ]
  },
  {
   "cell_type": "code",
   "execution_count": 8,
   "metadata": {},
   "outputs": [
    {
     "data": {
      "image/png": "[encoded data removed]",
      "text/plain": [
       "<Figure size 432x288 with 1 Axes>"
      ]
     },
     "metadata": {
      "needs_background": "light"
     },
     "output_type": "display_data"
    }
   ],
   "source": [
    "ths = np.arange(1,26)\n",
    "df_mean_time = dataframe.groupby('Threads')['Tiempo'].mean()\n",
    "df_std_time = dataframe.groupby('Threads')['Tiempo'].std()\n",
    "xlabel='#Threads'\n",
    "ylabel='Tiempo (s)'\n",
    "title='Performance shades multi-thread - Imagen 159x160'\n",
    "\n",
    "plot(ths,df_mean_time, df_std_time, title, xlabel, ylabel)"
   ]
  },
  {
   "cell_type": "markdown",
   "metadata": {},
   "source": [
    "### Imagen mediana (450 x 253 pixeles)"
   ]
  },
  {
   "cell_type": "code",
   "execution_count": 10,
   "metadata": {},
   "outputs": [],
   "source": [
    "# Código utilizado para correr los tests \n",
    "\n",
    "for n_threads in range(1,26):\n",
    "    for i in range(1,11): \n",
    "        cmd = \"./main shades \" + str(n_threads) + \" 10 0 imgs/imagen_mediana.ppm imgs/imagen_mediana.ppm\"\n",
    "        os.system(cmd)"
   ]
  },
  {
   "cell_type": "code",
   "execution_count": 11,
   "metadata": {},
   "outputs": [
    {
     "data": {
      "text/html": [
       "<div>\n",
       "<style scoped>\n",
       "    .dataframe tbody tr th:only-of-type {\n",
       "        vertical-align: middle;\n",
       "    }\n",
       "\n",
       "    .dataframe tbody tr th {\n",
       "        vertical-align: top;\n",
       "    }\n",
       "\n",
       "    .dataframe thead th {\n",
       "        text-align: right;\n",
       "    }\n",
       "</style>\n",
       "<table border=\"1\" class=\"dataframe\">\n",
       "  <thead>\n",
       "    <tr style=\"text-align: right;\">\n",
       "      <th></th>\n",
       "      <th>Tiempo</th>\n",
       "      <th>Threads</th>\n",
       "      <th>Filtro</th>\n",
       "      <th>Tamaño (pixeles)</th>\n",
       "    </tr>\n",
       "  </thead>\n",
       "  <tbody>\n",
       "    <tr>\n",
       "      <th>0</th>\n",
       "      <td>0.034854</td>\n",
       "      <td>1</td>\n",
       "      <td>shades</td>\n",
       "      <td>113850</td>\n",
       "    </tr>\n",
       "    <tr>\n",
       "      <th>1</th>\n",
       "      <td>0.033388</td>\n",
       "      <td>1</td>\n",
       "      <td>shades</td>\n",
       "      <td>113850</td>\n",
       "    </tr>\n",
       "    <tr>\n",
       "      <th>2</th>\n",
       "      <td>0.033354</td>\n",
       "      <td>1</td>\n",
       "      <td>shades</td>\n",
       "      <td>113850</td>\n",
       "    </tr>\n",
       "    <tr>\n",
       "      <th>3</th>\n",
       "      <td>0.033915</td>\n",
       "      <td>1</td>\n",
       "      <td>shades</td>\n",
       "      <td>113850</td>\n",
       "    </tr>\n",
       "    <tr>\n",
       "      <th>4</th>\n",
       "      <td>0.033693</td>\n",
       "      <td>1</td>\n",
       "      <td>shades</td>\n",
       "      <td>113850</td>\n",
       "    </tr>\n",
       "    <tr>\n",
       "      <th>...</th>\n",
       "      <td>...</td>\n",
       "      <td>...</td>\n",
       "      <td>...</td>\n",
       "      <td>...</td>\n",
       "    </tr>\n",
       "    <tr>\n",
       "      <th>245</th>\n",
       "      <td>0.005886</td>\n",
       "      <td>25</td>\n",
       "      <td>shades</td>\n",
       "      <td>113850</td>\n",
       "    </tr>\n",
       "    <tr>\n",
       "      <th>246</th>\n",
       "      <td>0.005674</td>\n",
       "      <td>25</td>\n",
       "      <td>shades</td>\n",
       "      <td>113850</td>\n",
       "    </tr>\n",
       "    <tr>\n",
       "      <th>247</th>\n",
       "      <td>0.005833</td>\n",
       "      <td>25</td>\n",
       "      <td>shades</td>\n",
       "      <td>113850</td>\n",
       "    </tr>\n",
       "    <tr>\n",
       "      <th>248</th>\n",
       "      <td>0.005772</td>\n",
       "      <td>25</td>\n",
       "      <td>shades</td>\n",
       "      <td>113850</td>\n",
       "    </tr>\n",
       "    <tr>\n",
       "      <th>249</th>\n",
       "      <td>0.005848</td>\n",
       "      <td>25</td>\n",
       "      <td>shades</td>\n",
       "      <td>113850</td>\n",
       "    </tr>\n",
       "  </tbody>\n",
       "</table>\n",
       "<p>250 rows × 4 columns</p>\n",
       "</div>"
      ],
      "text/plain": [
       "       Tiempo  Threads  Filtro  Tamaño (pixeles)\n",
       "0    0.034854        1  shades            113850\n",
       "1    0.033388        1  shades            113850\n",
       "2    0.033354        1  shades            113850\n",
       "3    0.033915        1  shades            113850\n",
       "4    0.033693        1  shades            113850\n",
       "..        ...      ...     ...               ...\n",
       "245  0.005886       25  shades            113850\n",
       "246  0.005674       25  shades            113850\n",
       "247  0.005833       25  shades            113850\n",
       "248  0.005772       25  shades            113850\n",
       "249  0.005848       25  shades            113850\n",
       "\n",
       "[250 rows x 4 columns]"
      ]
     },
     "execution_count": 11,
     "metadata": {},
     "output_type": "execute_result"
    }
   ],
   "source": [
    "# Traigo los datos obtenidos y los organizo en una tabla\n",
    "\n",
    "dataframe = pd.read_csv('test_imgMediana.csv', names=['Tiempo','Threads', 'Filtro', 'Tamaño (pixeles)'])\n",
    "dataframe"
   ]
  },
  {
   "cell_type": "code",
   "execution_count": 12,
   "metadata": {},
   "outputs": [
    {
     "data": {
      "image/png": "[encoded data removed]",
      "text/plain": [
       "<Figure size 432x288 with 1 Axes>"
      ]
     },
     "metadata": {
      "needs_background": "light"
     },
     "output_type": "display_data"
    }
   ],
   "source": [
    "ths = np.arange(1,26)\n",
    "df_mean_time = dataframe.groupby('Threads')['Tiempo'].mean()\n",
    "df_std_time = dataframe.groupby('Threads')['Tiempo'].std()\n",
    "xlabel='#Threads'\n",
    "ylabel='Tiempo (s)'\n",
    "title='Performance shades multi-thread - Imagen 450x253'\n",
    "\n",
    "plot(ths,df_mean_time, df_std_time, title, xlabel, ylabel)"
   ]
  },
  {
   "cell_type": "markdown",
   "metadata": {},
   "source": [
    "### Imágen grande (1120 x 580 pixeles)"
   ]
  },
  {
   "cell_type": "code",
   "execution_count": 13,
   "metadata": {},
   "outputs": [],
   "source": [
    "# Código utilizado para correr los tests \n",
    "\n",
    "for n_threads in range(1,26):\n",
    "    for i in range(1,11): \n",
    "        cmd = \"./main shades \" + str(n_threads) + \" 10 0 imgs/imagen_grande.ppm imgs/imagen_grande.ppm\"\n",
    "        os.system(cmd)"
   ]
  },
  {
   "cell_type": "code",
   "execution_count": 14,
   "metadata": {},
   "outputs": [
    {
     "data": {
      "text/html": [
       "<div>\n",
       "<style scoped>\n",
       "    .dataframe tbody tr th:only-of-type {\n",
       "        vertical-align: middle;\n",
       "    }\n",
       "\n",
       "    .dataframe tbody tr th {\n",
       "        vertical-align: top;\n",
       "    }\n",
       "\n",
       "    .dataframe thead th {\n",
       "        text-align: right;\n",
       "    }\n",
       "</style>\n",
       "<table border=\"1\" class=\"dataframe\">\n",
       "  <thead>\n",
       "    <tr style=\"text-align: right;\">\n",
       "      <th></th>\n",
       "      <th>Tiempo</th>\n",
       "      <th>Threads</th>\n",
       "      <th>Filtro</th>\n",
       "      <th>Tamaño (pixeles)</th>\n",
       "    </tr>\n",
       "  </thead>\n",
       "  <tbody>\n",
       "    <tr>\n",
       "      <th>0</th>\n",
       "      <td>0.199377</td>\n",
       "      <td>1</td>\n",
       "      <td>shades</td>\n",
       "      <td>649600</td>\n",
       "    </tr>\n",
       "    <tr>\n",
       "      <th>1</th>\n",
       "      <td>0.196976</td>\n",
       "      <td>1</td>\n",
       "      <td>shades</td>\n",
       "      <td>649600</td>\n",
       "    </tr>\n",
       "    <tr>\n",
       "      <th>2</th>\n",
       "      <td>0.193320</td>\n",
       "      <td>1</td>\n",
       "      <td>shades</td>\n",
       "      <td>649600</td>\n",
       "    </tr>\n",
       "    <tr>\n",
       "      <th>3</th>\n",
       "      <td>0.197342</td>\n",
       "      <td>1</td>\n",
       "      <td>shades</td>\n",
       "      <td>649600</td>\n",
       "    </tr>\n",
       "    <tr>\n",
       "      <th>4</th>\n",
       "      <td>0.194989</td>\n",
       "      <td>1</td>\n",
       "      <td>shades</td>\n",
       "      <td>649600</td>\n",
       "    </tr>\n",
       "    <tr>\n",
       "      <th>...</th>\n",
       "      <td>...</td>\n",
       "      <td>...</td>\n",
       "      <td>...</td>\n",
       "      <td>...</td>\n",
       "    </tr>\n",
       "    <tr>\n",
       "      <th>245</th>\n",
       "      <td>0.030816</td>\n",
       "      <td>25</td>\n",
       "      <td>shades</td>\n",
       "      <td>649600</td>\n",
       "    </tr>\n",
       "    <tr>\n",
       "      <th>246</th>\n",
       "      <td>0.034588</td>\n",
       "      <td>25</td>\n",
       "      <td>shades</td>\n",
       "      <td>649600</td>\n",
       "    </tr>\n",
       "    <tr>\n",
       "      <th>247</th>\n",
       "      <td>0.032996</td>\n",
       "      <td>25</td>\n",
       "      <td>shades</td>\n",
       "      <td>649600</td>\n",
       "    </tr>\n",
       "    <tr>\n",
       "      <th>248</th>\n",
       "      <td>0.035031</td>\n",
       "      <td>25</td>\n",
       "      <td>shades</td>\n",
       "      <td>649600</td>\n",
       "    </tr>\n",
       "    <tr>\n",
       "      <th>249</th>\n",
       "      <td>0.031486</td>\n",
       "      <td>25</td>\n",
       "      <td>shades</td>\n",
       "      <td>649600</td>\n",
       "    </tr>\n",
       "  </tbody>\n",
       "</table>\n",
       "<p>250 rows × 4 columns</p>\n",
       "</div>"
      ],
      "text/plain": [
       "       Tiempo  Threads  Filtro  Tamaño (pixeles)\n",
       "0    0.199377        1  shades            649600\n",
       "1    0.196976        1  shades            649600\n",
       "2    0.193320        1  shades            649600\n",
       "3    0.197342        1  shades            649600\n",
       "4    0.194989        1  shades            649600\n",
       "..        ...      ...     ...               ...\n",
       "245  0.030816       25  shades            649600\n",
       "246  0.034588       25  shades            649600\n",
       "247  0.032996       25  shades            649600\n",
       "248  0.035031       25  shades            649600\n",
       "249  0.031486       25  shades            649600\n",
       "\n",
       "[250 rows x 4 columns]"
      ]
     },
     "execution_count": 14,
     "metadata": {},
     "output_type": "execute_result"
    }
   ],
   "source": [
    "# Traigo los datos obtenidos y los organizo en una tabla\n",
    "\n",
    "dataframe = pd.read_csv('test_imgGrande.csv', names=['Tiempo','Threads', 'Filtro', 'Tamaño (pixeles)'])\n",
    "dataframe"
   ]
  },
  {
   "cell_type": "code",
   "execution_count": 15,
   "metadata": {},
   "outputs": [
    {
     "data": {
      "image/png": "[encoded data removed]",
      "text/plain": [
       "<Figure size 432x288 with 1 Axes>"
      ]
     },
     "metadata": {
      "needs_background": "light"
     },
     "output_type": "display_data"
    }
   ],
   "source": [
    "ths = np.arange(1,26)\n",
    "df_mean_time = dataframe.groupby('Threads')['Tiempo'].mean()\n",
    "df_std_time = dataframe.groupby('Threads')['Tiempo'].std()\n",
    "xlabel='#Threads'\n",
    "ylabel='Tiempo (s)'\n",
    "title='Performance shades multi-thread - Imagen 1120x580'\n",
    "\n",
    "plot(ths,df_mean_time, df_std_time, title, xlabel, ylabel)"
   ]
  },
  {
   "cell_type": "markdown",
   "metadata": {},
   "source": [
    "Una vez realizados los tests y analizados los datos devueltos por el programa, podemos comprobar que estábamos en lo correcto cuándo pensabamos que a más cantidad de pixeles por imagen, es decir mayor tamaño, más tiempo iba a necesitar la computadora para aplicar el filtro. Esto es muy probable que suceda porque se necesita recorrer más pixeles a los que se les iría aplicando el filtro uno por uno, ya que **shades** pertenece al tipo **pixel to pixel**. Otra cosa a considerar es que vuelve a suceder los mismo que antes, que cuando se utilizan 12 threads se llega al mejor performance posible y mejores tiempos se obtienen, esto debido al procesador y su límite."
   ]
  },
  {
   "cell_type": "markdown",
   "metadata": {},
   "source": [
    "## Comparación de performance con filtros multi-thread"
   ]
  },
  {
   "cell_type": "code",
   "execution_count": 16,
   "metadata": {},
   "outputs": [],
   "source": [
    "# Código utilizado para correr los tests \n",
    "\n",
    "for n_threads in range(1,26):\n",
    "    for i in range(1,11): \n",
    "        cmd = \"./main edgeDetection \" + str(n_threads) + \" 1 1 imgs/imagen_grande.ppm imgs/imagen_grande.ppm\"\n",
    "        os.system(cmd)"
   ]
  },
  {
   "cell_type": "code",
   "execution_count": 17,
   "metadata": {},
   "outputs": [
    {
     "data": {
      "text/html": [
       "<div>\n",
       "<style scoped>\n",
       "    .dataframe tbody tr th:only-of-type {\n",
       "        vertical-align: middle;\n",
       "    }\n",
       "\n",
       "    .dataframe tbody tr th {\n",
       "        vertical-align: top;\n",
       "    }\n",
       "\n",
       "    .dataframe thead th {\n",
       "        text-align: right;\n",
       "    }\n",
       "</style>\n",
       "<table border=\"1\" class=\"dataframe\">\n",
       "  <thead>\n",
       "    <tr style=\"text-align: right;\">\n",
       "      <th></th>\n",
       "      <th>Tiempo</th>\n",
       "      <th>Threads</th>\n",
       "      <th>Filtro</th>\n",
       "      <th>Tamaño (pixeles)</th>\n",
       "    </tr>\n",
       "  </thead>\n",
       "  <tbody>\n",
       "    <tr>\n",
       "      <th>0</th>\n",
       "      <td>0.708002</td>\n",
       "      <td>1</td>\n",
       "      <td>edgeDetection</td>\n",
       "      <td>649600</td>\n",
       "    </tr>\n",
       "    <tr>\n",
       "      <th>1</th>\n",
       "      <td>0.710131</td>\n",
       "      <td>1</td>\n",
       "      <td>edgeDetection</td>\n",
       "      <td>649600</td>\n",
       "    </tr>\n",
       "    <tr>\n",
       "      <th>2</th>\n",
       "      <td>0.725319</td>\n",
       "      <td>1</td>\n",
       "      <td>edgeDetection</td>\n",
       "      <td>649600</td>\n",
       "    </tr>\n",
       "    <tr>\n",
       "      <th>3</th>\n",
       "      <td>0.720449</td>\n",
       "      <td>1</td>\n",
       "      <td>edgeDetection</td>\n",
       "      <td>649600</td>\n",
       "    </tr>\n",
       "    <tr>\n",
       "      <th>4</th>\n",
       "      <td>0.725449</td>\n",
       "      <td>1</td>\n",
       "      <td>edgeDetection</td>\n",
       "      <td>649600</td>\n",
       "    </tr>\n",
       "    <tr>\n",
       "      <th>...</th>\n",
       "      <td>...</td>\n",
       "      <td>...</td>\n",
       "      <td>...</td>\n",
       "      <td>...</td>\n",
       "    </tr>\n",
       "    <tr>\n",
       "      <th>245</th>\n",
       "      <td>0.119152</td>\n",
       "      <td>25</td>\n",
       "      <td>edgeDetection</td>\n",
       "      <td>649600</td>\n",
       "    </tr>\n",
       "    <tr>\n",
       "      <th>246</th>\n",
       "      <td>0.108863</td>\n",
       "      <td>25</td>\n",
       "      <td>edgeDetection</td>\n",
       "      <td>649600</td>\n",
       "    </tr>\n",
       "    <tr>\n",
       "      <th>247</th>\n",
       "      <td>0.104424</td>\n",
       "      <td>25</td>\n",
       "      <td>edgeDetection</td>\n",
       "      <td>649600</td>\n",
       "    </tr>\n",
       "    <tr>\n",
       "      <th>248</th>\n",
       "      <td>0.103135</td>\n",
       "      <td>25</td>\n",
       "      <td>edgeDetection</td>\n",
       "      <td>649600</td>\n",
       "    </tr>\n",
       "    <tr>\n",
       "      <th>249</th>\n",
       "      <td>0.106217</td>\n",
       "      <td>25</td>\n",
       "      <td>edgeDetection</td>\n",
       "      <td>649600</td>\n",
       "    </tr>\n",
       "  </tbody>\n",
       "</table>\n",
       "<p>250 rows × 4 columns</p>\n",
       "</div>"
      ],
      "text/plain": [
       "       Tiempo  Threads         Filtro  Tamaño (pixeles)\n",
       "0    0.708002        1  edgeDetection            649600\n",
       "1    0.710131        1  edgeDetection            649600\n",
       "2    0.725319        1  edgeDetection            649600\n",
       "3    0.720449        1  edgeDetection            649600\n",
       "4    0.725449        1  edgeDetection            649600\n",
       "..        ...      ...            ...               ...\n",
       "245  0.119152       25  edgeDetection            649600\n",
       "246  0.108863       25  edgeDetection            649600\n",
       "247  0.104424       25  edgeDetection            649600\n",
       "248  0.103135       25  edgeDetection            649600\n",
       "249  0.106217       25  edgeDetection            649600\n",
       "\n",
       "[250 rows x 4 columns]"
      ]
     },
     "execution_count": 17,
     "metadata": {},
     "output_type": "execute_result"
    }
   ],
   "source": [
    "# Traigo los datos obtenidos y los organizo en una tabla\n",
    "\n",
    "dataframe = pd.read_csv('test_edgeDetection.csv', names=['Tiempo','Threads', 'Filtro', 'Tamaño (pixeles)'])\n",
    "dataframe"
   ]
  },
  {
   "cell_type": "code",
   "execution_count": 18,
   "metadata": {},
   "outputs": [
    {
     "data": {
      "image/png": "[encoded data removed]",
      "text/plain": [
       "<Figure size 432x288 with 1 Axes>"
      ]
     },
     "metadata": {
      "needs_background": "light"
     },
     "output_type": "display_data"
    }
   ],
   "source": [
    "ths = np.arange(1,26)\n",
    "df_mean_time = dataframe.groupby('Threads')['Tiempo'].mean()\n",
    "df_std_time = dataframe.groupby('Threads')['Tiempo'].std()\n",
    "xlabel='#Threads'\n",
    "ylabel='Tiempo (s)'\n",
    "title='Performance Edge Detection multi-thread - Imagen 1120x580'\n",
    "\n",
    "plot(ths,df_mean_time, df_std_time, title, xlabel, ylabel)"
   ]
  },
  {
   "cell_type": "markdown",
   "metadata": {},
   "source": [
    "Si realizamos la comparación de los tiempos de ejecución que devolvían los tests, y podíamos ver en los gráficos, de los filtros **pixel to pixel (brightness y shades, los cuales eran muy similares)**, y el **filtro de convolución (edge detection)**, queda a la vista que este último requiere mucho más tiempo para ser procesado por completo (casi 4 veces más). Esto se debe a que los filtros aplicados trabajan de formas diferentes y cada uno procesa a la imagen de una manera específica. El primero va recorriendo pixel por pixel, y el otro toma una matriz 3x3 de un pixel, la cual incluye a los otros 8 que tiene a su alrededor, y a partir de ello aplica el efecto."
   ]
  }
 ],
 "metadata": {
  "kernelspec": {
   "display_name": "Python 3",
   "language": "python",
   "name": "python3"
  },
  "language_info": {
   "codemirror_mode": {
    "name": "ipython",
    "version": 3
   },
   "file_extension": ".py",
   "mimetype": "text/x-python",
   "name": "python",
   "nbconvert_exporter": "python",
   "pygments_lexer": "ipython3",
   "version": "3.8.3"
  }
 },
 "nbformat": 4,
 "nbformat_minor": 4
}
